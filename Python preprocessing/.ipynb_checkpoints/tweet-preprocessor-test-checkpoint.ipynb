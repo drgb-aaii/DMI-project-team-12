{
 "cells": [
  {
   "cell_type": "code",
   "execution_count": 17,
   "metadata": {},
   "outputs": [],
   "source": [
    "import pandas as pd"
   ]
  },
  {
   "cell_type": "code",
   "execution_count": 18,
   "metadata": {},
   "outputs": [],
   "source": [
    "df = pd.read_csv('negative-review.csv')\n",
    "saved_column = df[\"text\"] #you can also use df['column_name']"
   ]
  },
  {
   "cell_type": "code",
   "execution_count": 19,
   "metadata": {
    "scrolled": true
   },
   "outputs": [
    {
     "name": "stdout",
     "output_type": "stream",
     "text": [
      "0        it's really aggressive to blast obnoxious \"en...\n",
      "1                and it's a really big bad thing about it\n",
      "2        seriously would pay $30 a flight for seats th...\n",
      "3                          SFO-PDX schedule is still MIA.\n",
      "4         I flew from NYC to SFO last week and couldn'...\n",
      "5        why are your first fares in May over three ti...\n",
      "6        you guys messed up my seating.. I reserved se...\n",
      "7        status match program.  I applied and it's bee...\n",
      "8        What happened 2 ur vegan food options?! At le...\n",
      "9        amazing to me that we can't get any cold air ...\n",
      "10       hi! I just bked a cool birthday trip with you...\n",
      "11       help, left expensive headphones on flight 89 ...\n",
      "12       awaiting my return phone call, just would pre...\n",
      "13        Your chat support is not working on your site: \n",
      "14       Hey, first time flyer next week - excited! Bu...\n",
      "15       hi! i'm so excited about your $99 LGA-&gt;DAL...\n",
      "16       I called a 3-4 weeks ago about adding 3 fligh...\n",
      "17       heyyyy guyyyys.. been trying to get through f...\n",
      "18       Hi, Virgin! I'm on hold for 40-50 minutes -- ...\n",
      "19              everything was fine until you lost my bag\n",
      "20       your airline is awesome but your lax loft nee...\n",
      "21       what is going on with customer service? Is th...\n",
      "22       why can't you supp the biz traveler like   an...\n",
      "23       you're the best!! Whenever I (begrudgingly) u...\n",
      "24       I have no interesting flying with you after t...\n",
      "25       it was a disappointing experience which will ...\n",
      "26       Im having trouble adding this flight my wife ...\n",
      "27        Why is the site down?  When will it be back up?\n",
      "28       I like the TV and interesting video . Just di...\n",
      "29       just landed in LAX, an hour after I should of...\n",
      "                              ...                        \n",
      "9148      Where's my DM? Where's my voucher? Who's pay...\n",
      "9149                        we've been on hold for hours.\n",
      "9150     9956 Do you dislike delays when they're cause...\n",
      "9151      It's not the weather. It's also gross incomp...\n",
      "9152     .....and they waited 5 hours in a stuffy plan...\n",
      "9153     my flight out of TYR tomorrow was Cancelled F...\n",
      "9154     Has AA Flight 296 from San Antonio to Dallas ...\n",
      "9155     trying to book a flight on hold- can't get th...\n",
      "9156     Cancelled Flights flights arbitrarily on same...\n",
      "9157     my flight was Cancelled Flightled from Laguar...\n",
      "9158     &amp; if that wasn't enough, your staff have ...\n",
      "9159     I understand the weather issue but you can't ...\n",
      "9160     a friend is having flight Cancelled Flightlat...\n",
      "9161     I used the \"call back\" feature with an operat...\n",
      "9162     I need to be at work tomorrow at 8am, therefo...\n",
      "9163      ugh Dump us in dfw w/no luggage then Cancell...\n",
      "9164     Cancelled Flights my flight, doesn't send an ...\n",
      "9165     3078 is overweight so you pull 2 dozen passen...\n",
      "9166     I wait 2+ hrs for CS to call me back re why  ...\n",
      "9167     I've been on hold for 55 mins about my Cancel...\n",
      "9168    I just need a place to sleep when I land witho...\n",
      "9169     Call me Chairman, or call me Emerald. After w...\n",
      "9170     Flight 953 NYC-Buenos Aires has been delay si...\n",
      "9171     Flight Cancelled Flightled, can't go home unt...\n",
      "9172     How do I change my flight if the phone system...\n",
      "9173     thx for nothing on getting us out of the coun...\n",
      "9174     my flight was Cancelled Flightled, leaving to...\n",
      "9175                         right on cue with the delays\n",
      "9176     leaving over 20 minutes Late Flight. No warni...\n",
      "9177     you have my money, you change my flight, and ...\n",
      "Name: text, Length: 9178, dtype: object\n"
     ]
    }
   ],
   "source": [
    "print(saved_column)"
   ]
  },
  {
   "cell_type": "code",
   "execution_count": 20,
   "metadata": {},
   "outputs": [],
   "source": [
    "import preprocessor as p"
   ]
  },
  {
   "cell_type": "code",
   "execution_count": 21,
   "metadata": {},
   "outputs": [],
   "source": [
    "#p.set_options(p.OPT.URL, p.OPT.EMOJI)\n",
    "preprocessed_text = []"
   ]
  },
  {
   "cell_type": "code",
   "execution_count": 22,
   "metadata": {},
   "outputs": [],
   "source": [
    "for row in df[\"text\"]:\n",
    "    preprocessed_text.append(p.clean(row))"
   ]
  },
  {
   "cell_type": "code",
   "execution_count": 23,
   "metadata": {},
   "outputs": [],
   "source": [
    "df[\"text\"] = preprocessed_text"
   ]
  },
  {
   "cell_type": "code",
   "execution_count": 24,
   "metadata": {
    "scrolled": true
   },
   "outputs": [
    {
     "name": "stdout",
     "output_type": "stream",
     "text": [
      "0       it's really aggressive to blast obnoxious \"ent...\n",
      "1                and it's a really big bad thing about it\n",
      "2       seriously would pay $30 a flight for seats tha...\n",
      "3                          SFO-PDX schedule is still MIA.\n",
      "4       I flew from NYC to SFO last week and couldn't ...\n",
      "5       why are your first fares in May over three tim...\n",
      "6       you guys messed up my seating.. I reserved sea...\n",
      "7       status match program. I applied and it's been ...\n",
      "8       What happened 2 ur vegan food options?! At lea...\n",
      "9       amazing to me that we can't get any cold air f...\n",
      "10      hi! I just bked a cool birthday trip with you,...\n",
      "11      help, left expensive headphones on flight 89 I...\n",
      "12      awaiting my return phone call, just would pref...\n",
      "13         Your chat support is not working on your site:\n",
      "14      Hey, first time flyer next week - excited! But...\n",
      "15      hi! i'm so excited about your $99 LGA-&gt;DAL ...\n",
      "16      I called a 3-4 weeks ago about adding 3 flight...\n",
      "17      heyyyy guyyyys.. been trying to get through fo...\n",
      "18      Hi, Virgin! I'm on hold for 40-50 minutes -- a...\n",
      "19              everything was fine until you lost my bag\n",
      "20      your airline is awesome but your lax loft need...\n",
      "21      what is going on with customer service? Is the...\n",
      "22      why can't you supp the biz traveler like and h...\n",
      "23      you're the best!! Whenever I (begrudgingly) us...\n",
      "24      I have no interesting flying with you after th...\n",
      "25      it was a disappointing experience which will b...\n",
      "26      Im having trouble adding this flight my wife b...\n",
      "27         Why is the site down? When will it be back up?\n",
      "28      I like the TV and interesting video . Just dis...\n",
      "29      just landed in LAX, an hour after I should of ...\n",
      "                              ...                        \n",
      "9148    Where's my DM? Where's my voucher? Who's payin...\n",
      "9149                        we've been on hold for hours.\n",
      "9150    9956 Do you dislike delays when they're caused...\n",
      "9151    It's not the weather. It's also gross incompet...\n",
      "9152    .....and they waited 5 hours in a stuffy plane...\n",
      "9153    my flight out of TYR tomorrow was Cancelled Fl...\n",
      "9154    Has AA Flight 296 from San Antonio to Dallas b...\n",
      "9155    trying to book a flight on hold- can't get thr...\n",
      "9156    Cancelled Flights flights arbitrarily on same ...\n",
      "9157    my flight was Cancelled Flightled from Laguard...\n",
      "9158    &amp; if that wasn't enough, your staff have b...\n",
      "9159    I understand the weather issue but you can't e...\n",
      "9160    a friend is having flight Cancelled Flightlati...\n",
      "9161    I used the \"call back\" feature with an operato...\n",
      "9162    I need to be at work tomorrow at 8am, therefor...\n",
      "9163    ugh Dump us in dfw w/no luggage then Cancelled...\n",
      "9164    Cancelled Flights my flight, doesn't send an e...\n",
      "9165    3078 is overweight so you pull 2 dozen passeng...\n",
      "9166    I wait 2+ hrs for CS to call me back re why fl...\n",
      "9167    I've been on hold for 55 mins about my Cancell...\n",
      "9168    I just need a place to sleep when I land witho...\n",
      "9169    Call me Chairman, or call me Emerald. After wh...\n",
      "9170    Flight 953 NYC-Buenos Aires has been delay sin...\n",
      "9171    Flight Cancelled Flightled, can't go home unti...\n",
      "9172    How do I change my flight if the phone system ...\n",
      "9173    thx for nothing on getting us out of the count...\n",
      "9174    my flight was Cancelled Flightled, leaving tom...\n",
      "9175                         right on cue with the delays\n",
      "9176    leaving over 20 minutes Late Flight. No warnin...\n",
      "9177    you have my money, you change my flight, and d...\n",
      "Name: text, Length: 9178, dtype: object\n"
     ]
    }
   ],
   "source": [
    "print(df[\"text\"])"
   ]
  },
  {
   "cell_type": "code",
   "execution_count": 25,
   "metadata": {},
   "outputs": [],
   "source": [
    "export_csv = df.to_csv (r'preprocessed.csv', index = None, header=True)"
   ]
  },
  {
   "cell_type": "code",
   "execution_count": null,
   "metadata": {},
   "outputs": [],
   "source": []
  }
 ],
 "metadata": {
  "kernelspec": {
   "display_name": "Python 3",
   "language": "python",
   "name": "python3"
  },
  "language_info": {
   "codemirror_mode": {
    "name": "ipython",
    "version": 3
   },
   "file_extension": ".py",
   "mimetype": "text/x-python",
   "name": "python",
   "nbconvert_exporter": "python",
   "pygments_lexer": "ipython3",
   "version": "3.7.4"
  }
 },
 "nbformat": 4,
 "nbformat_minor": 2
}
