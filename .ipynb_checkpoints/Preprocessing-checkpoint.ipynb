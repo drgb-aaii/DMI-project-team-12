{
 "cells": [
  {
   "cell_type": "markdown",
   "metadata": {},
   "source": [
    "## Import pandas and RE"
   ]
  },
  {
   "cell_type": "code",
   "execution_count": 1,
   "metadata": {},
   "outputs": [],
   "source": [
    "import pandas as pd\n",
    "import re\n",
    "from textblob import TextBlob"
   ]
  },
  {
   "cell_type": "markdown",
   "metadata": {},
   "source": [
    "## Loading CSV file"
   ]
  },
  {
   "cell_type": "code",
   "execution_count": 2,
   "metadata": {},
   "outputs": [],
   "source": [
    "neg_reviews_dataset = pd.read_csv(r\"Tweets.csv\",error_bad_lines=False)\n"
   ]
  },
  {
   "cell_type": "code",
   "execution_count": 3,
   "metadata": {},
   "outputs": [
    {
     "data": {
      "text/plain": [
       "\"@VirginAmerica not worried, it's been a great ride in a new plane with great crew. All airlines should be like this.\""
      ]
     },
     "execution_count": 3,
     "metadata": {},
     "output_type": "execute_result"
    }
   ],
   "source": [
    "neg_reviews_dataset[\"text\"][74]"
   ]
  },
  {
   "cell_type": "code",
   "execution_count": 4,
   "metadata": {},
   "outputs": [],
   "source": [
    "df = neg_reviews_dataset.filter([\"airline_sentiment\", \"negativereason\", \"text\"]) "
   ]
  },
  {
   "cell_type": "code",
   "execution_count": 5,
   "metadata": {},
   "outputs": [
    {
     "data": {
      "text/html": [
       "<div>\n",
       "<style scoped>\n",
       "    .dataframe tbody tr th:only-of-type {\n",
       "        vertical-align: middle;\n",
       "    }\n",
       "\n",
       "    .dataframe tbody tr th {\n",
       "        vertical-align: top;\n",
       "    }\n",
       "\n",
       "    .dataframe thead th {\n",
       "        text-align: right;\n",
       "    }\n",
       "</style>\n",
       "<table border=\"1\" class=\"dataframe\">\n",
       "  <thead>\n",
       "    <tr style=\"text-align: right;\">\n",
       "      <th></th>\n",
       "      <th>airline_sentiment</th>\n",
       "      <th>negativereason</th>\n",
       "      <th>text</th>\n",
       "    </tr>\n",
       "  </thead>\n",
       "  <tbody>\n",
       "    <tr>\n",
       "      <th>0</th>\n",
       "      <td>neutral</td>\n",
       "      <td>NaN</td>\n",
       "      <td>@VirginAmerica What @dhepburn said.</td>\n",
       "    </tr>\n",
       "    <tr>\n",
       "      <th>1</th>\n",
       "      <td>positive</td>\n",
       "      <td>NaN</td>\n",
       "      <td>@VirginAmerica plus you've added commercials t...</td>\n",
       "    </tr>\n",
       "    <tr>\n",
       "      <th>2</th>\n",
       "      <td>neutral</td>\n",
       "      <td>NaN</td>\n",
       "      <td>@VirginAmerica I didn't today... Must mean I n...</td>\n",
       "    </tr>\n",
       "    <tr>\n",
       "      <th>3</th>\n",
       "      <td>negative</td>\n",
       "      <td>Bad Flight</td>\n",
       "      <td>@VirginAmerica it's really aggressive to blast...</td>\n",
       "    </tr>\n",
       "    <tr>\n",
       "      <th>4</th>\n",
       "      <td>negative</td>\n",
       "      <td>Can't Tell</td>\n",
       "      <td>@VirginAmerica and it's a really big bad thing...</td>\n",
       "    </tr>\n",
       "  </tbody>\n",
       "</table>\n",
       "</div>"
      ],
      "text/plain": [
       "  airline_sentiment negativereason  \\\n",
       "0           neutral            NaN   \n",
       "1          positive            NaN   \n",
       "2           neutral            NaN   \n",
       "3          negative     Bad Flight   \n",
       "4          negative     Can't Tell   \n",
       "\n",
       "                                                text  \n",
       "0                @VirginAmerica What @dhepburn said.  \n",
       "1  @VirginAmerica plus you've added commercials t...  \n",
       "2  @VirginAmerica I didn't today... Must mean I n...  \n",
       "3  @VirginAmerica it's really aggressive to blast...  \n",
       "4  @VirginAmerica and it's a really big bad thing...  "
      ]
     },
     "execution_count": 5,
     "metadata": {},
     "output_type": "execute_result"
    }
   ],
   "source": [
    "df.head(5)"
   ]
  },
  {
   "cell_type": "code",
   "execution_count": 6,
   "metadata": {},
   "outputs": [],
   "source": [
    "df = df.loc[df['airline_sentiment'] == 'negative']"
   ]
  },
  {
   "cell_type": "code",
   "execution_count": 7,
   "metadata": {},
   "outputs": [
    {
     "data": {
      "text/html": [
       "<div>\n",
       "<style scoped>\n",
       "    .dataframe tbody tr th:only-of-type {\n",
       "        vertical-align: middle;\n",
       "    }\n",
       "\n",
       "    .dataframe tbody tr th {\n",
       "        vertical-align: top;\n",
       "    }\n",
       "\n",
       "    .dataframe thead th {\n",
       "        text-align: right;\n",
       "    }\n",
       "</style>\n",
       "<table border=\"1\" class=\"dataframe\">\n",
       "  <thead>\n",
       "    <tr style=\"text-align: right;\">\n",
       "      <th></th>\n",
       "      <th>airline_sentiment</th>\n",
       "      <th>negativereason</th>\n",
       "      <th>text</th>\n",
       "    </tr>\n",
       "  </thead>\n",
       "  <tbody>\n",
       "    <tr>\n",
       "      <th>3</th>\n",
       "      <td>negative</td>\n",
       "      <td>Bad Flight</td>\n",
       "      <td>@VirginAmerica it's really aggressive to blast...</td>\n",
       "    </tr>\n",
       "    <tr>\n",
       "      <th>4</th>\n",
       "      <td>negative</td>\n",
       "      <td>Can't Tell</td>\n",
       "      <td>@VirginAmerica and it's a really big bad thing...</td>\n",
       "    </tr>\n",
       "    <tr>\n",
       "      <th>5</th>\n",
       "      <td>negative</td>\n",
       "      <td>Can't Tell</td>\n",
       "      <td>@VirginAmerica seriously would pay $30 a fligh...</td>\n",
       "    </tr>\n",
       "    <tr>\n",
       "      <th>15</th>\n",
       "      <td>negative</td>\n",
       "      <td>Late Flight</td>\n",
       "      <td>@VirginAmerica SFO-PDX schedule is still MIA.</td>\n",
       "    </tr>\n",
       "    <tr>\n",
       "      <th>17</th>\n",
       "      <td>negative</td>\n",
       "      <td>Bad Flight</td>\n",
       "      <td>@VirginAmerica  I flew from NYC to SFO last we...</td>\n",
       "    </tr>\n",
       "  </tbody>\n",
       "</table>\n",
       "</div>"
      ],
      "text/plain": [
       "   airline_sentiment negativereason  \\\n",
       "3           negative     Bad Flight   \n",
       "4           negative     Can't Tell   \n",
       "5           negative     Can't Tell   \n",
       "15          negative    Late Flight   \n",
       "17          negative     Bad Flight   \n",
       "\n",
       "                                                 text  \n",
       "3   @VirginAmerica it's really aggressive to blast...  \n",
       "4   @VirginAmerica and it's a really big bad thing...  \n",
       "5   @VirginAmerica seriously would pay $30 a fligh...  \n",
       "15      @VirginAmerica SFO-PDX schedule is still MIA.  \n",
       "17  @VirginAmerica  I flew from NYC to SFO last we...  "
      ]
     },
     "execution_count": 7,
     "metadata": {},
     "output_type": "execute_result"
    }
   ],
   "source": [
    "df.head(5)"
   ]
  },
  {
   "cell_type": "markdown",
   "metadata": {},
   "source": [
    "## Re-categorize negative reason"
   ]
  },
  {
   "cell_type": "code",
   "execution_count": 8,
   "metadata": {},
   "outputs": [],
   "source": [
    "df.loc[df['negativereason'].isin(['Bad Flight', \n",
    "                                  'Flight Attendant Complaints']), \n",
    "       ['negativereason']] = 'Bad Flights'"
   ]
  },
  {
   "cell_type": "code",
   "execution_count": 9,
   "metadata": {},
   "outputs": [],
   "source": [
    "df.loc[df['negativereason'].isin(['Customer Service Issue', \n",
    "                                  'Flight Booking Problems', \n",
    "                                  'longlines']), \n",
    "       ['negativereason']] = 'Customer Service'"
   ]
  },
  {
   "cell_type": "code",
   "execution_count": 10,
   "metadata": {},
   "outputs": [],
   "source": [
    "df.loc[df['negativereason'].isin(['Lost Luggage',\n",
    "                                  'Damaged Luggage']), \n",
    "       ['negativereason']] = 'Luggage Issues'"
   ]
  },
  {
   "cell_type": "code",
   "execution_count": 11,
   "metadata": {},
   "outputs": [],
   "source": [
    "df.loc[df['negativereason'].isin(['Late Flight',\n",
    "                                  'Cancelled Flight']), \n",
    "       ['negativereason']] = 'Flight Cancellation and Delays'"
   ]
  },
  {
   "cell_type": "code",
   "execution_count": 12,
   "metadata": {},
   "outputs": [
    {
     "data": {
      "text/html": [
       "<div>\n",
       "<style scoped>\n",
       "    .dataframe tbody tr th:only-of-type {\n",
       "        vertical-align: middle;\n",
       "    }\n",
       "\n",
       "    .dataframe tbody tr th {\n",
       "        vertical-align: top;\n",
       "    }\n",
       "\n",
       "    .dataframe thead th {\n",
       "        text-align: right;\n",
       "    }\n",
       "</style>\n",
       "<table border=\"1\" class=\"dataframe\">\n",
       "  <thead>\n",
       "    <tr style=\"text-align: right;\">\n",
       "      <th></th>\n",
       "      <th>airline_sentiment</th>\n",
       "      <th>negativereason</th>\n",
       "      <th>text</th>\n",
       "    </tr>\n",
       "  </thead>\n",
       "  <tbody>\n",
       "    <tr>\n",
       "      <th>3</th>\n",
       "      <td>negative</td>\n",
       "      <td>Bad Flights</td>\n",
       "      <td>@VirginAmerica it's really aggressive to blast...</td>\n",
       "    </tr>\n",
       "    <tr>\n",
       "      <th>4</th>\n",
       "      <td>negative</td>\n",
       "      <td>Can't Tell</td>\n",
       "      <td>@VirginAmerica and it's a really big bad thing...</td>\n",
       "    </tr>\n",
       "    <tr>\n",
       "      <th>5</th>\n",
       "      <td>negative</td>\n",
       "      <td>Can't Tell</td>\n",
       "      <td>@VirginAmerica seriously would pay $30 a fligh...</td>\n",
       "    </tr>\n",
       "    <tr>\n",
       "      <th>15</th>\n",
       "      <td>negative</td>\n",
       "      <td>Flight Cancellation and Delays</td>\n",
       "      <td>@VirginAmerica SFO-PDX schedule is still MIA.</td>\n",
       "    </tr>\n",
       "    <tr>\n",
       "      <th>17</th>\n",
       "      <td>negative</td>\n",
       "      <td>Bad Flights</td>\n",
       "      <td>@VirginAmerica  I flew from NYC to SFO last we...</td>\n",
       "    </tr>\n",
       "    <tr>\n",
       "      <th>...</th>\n",
       "      <td>...</td>\n",
       "      <td>...</td>\n",
       "      <td>...</td>\n",
       "    </tr>\n",
       "    <tr>\n",
       "      <th>14631</th>\n",
       "      <td>negative</td>\n",
       "      <td>Bad Flights</td>\n",
       "      <td>@AmericanAir thx for nothing on getting us out...</td>\n",
       "    </tr>\n",
       "    <tr>\n",
       "      <th>14633</th>\n",
       "      <td>negative</td>\n",
       "      <td>Flight Cancellation and Delays</td>\n",
       "      <td>@AmericanAir my flight was Cancelled Flightled...</td>\n",
       "    </tr>\n",
       "    <tr>\n",
       "      <th>14634</th>\n",
       "      <td>negative</td>\n",
       "      <td>Flight Cancellation and Delays</td>\n",
       "      <td>@AmericanAir right on cue with the delays👌</td>\n",
       "    </tr>\n",
       "    <tr>\n",
       "      <th>14636</th>\n",
       "      <td>negative</td>\n",
       "      <td>Customer Service</td>\n",
       "      <td>@AmericanAir leaving over 20 minutes Late Flig...</td>\n",
       "    </tr>\n",
       "    <tr>\n",
       "      <th>14638</th>\n",
       "      <td>negative</td>\n",
       "      <td>Customer Service</td>\n",
       "      <td>@AmericanAir you have my money, you change my ...</td>\n",
       "    </tr>\n",
       "  </tbody>\n",
       "</table>\n",
       "<p>9178 rows × 3 columns</p>\n",
       "</div>"
      ],
      "text/plain": [
       "      airline_sentiment                  negativereason  \\\n",
       "3              negative                     Bad Flights   \n",
       "4              negative                      Can't Tell   \n",
       "5              negative                      Can't Tell   \n",
       "15             negative  Flight Cancellation and Delays   \n",
       "17             negative                     Bad Flights   \n",
       "...                 ...                             ...   \n",
       "14631          negative                     Bad Flights   \n",
       "14633          negative  Flight Cancellation and Delays   \n",
       "14634          negative  Flight Cancellation and Delays   \n",
       "14636          negative                Customer Service   \n",
       "14638          negative                Customer Service   \n",
       "\n",
       "                                                    text  \n",
       "3      @VirginAmerica it's really aggressive to blast...  \n",
       "4      @VirginAmerica and it's a really big bad thing...  \n",
       "5      @VirginAmerica seriously would pay $30 a fligh...  \n",
       "15         @VirginAmerica SFO-PDX schedule is still MIA.  \n",
       "17     @VirginAmerica  I flew from NYC to SFO last we...  \n",
       "...                                                  ...  \n",
       "14631  @AmericanAir thx for nothing on getting us out...  \n",
       "14633  @AmericanAir my flight was Cancelled Flightled...  \n",
       "14634         @AmericanAir right on cue with the delays👌  \n",
       "14636  @AmericanAir leaving over 20 minutes Late Flig...  \n",
       "14638  @AmericanAir you have my money, you change my ...  \n",
       "\n",
       "[9178 rows x 3 columns]"
      ]
     },
     "execution_count": 12,
     "metadata": {},
     "output_type": "execute_result"
    }
   ],
   "source": [
    "tmp = df\n",
    "df"
   ]
  },
  {
   "cell_type": "markdown",
   "metadata": {},
   "source": [
    "## Re-processing tweets"
   ]
  },
  {
   "cell_type": "code",
   "execution_count": 13,
   "metadata": {},
   "outputs": [],
   "source": [
    " #lowercase all words\n",
    "tmp['text'] = [elem.lower() for elem in tmp['text']]"
   ]
  },
  {
   "cell_type": "code",
   "execution_count": 14,
   "metadata": {},
   "outputs": [],
   "source": [
    "#Trim newline\n",
    "tmp['text'] = [re.sub(r\"\\n\", ' ', elem) for elem in tmp['text']] "
   ]
  },
  {
   "cell_type": "code",
   "execution_count": 15,
   "metadata": {},
   "outputs": [],
   "source": [
    "#Removing @Airline\n",
    "tmp['text'] = [re.sub(r\"@[a-zA-Z]*\", '', elem) for elem in tmp['text']]"
   ]
  },
  {
   "cell_type": "code",
   "execution_count": 16,
   "metadata": {},
   "outputs": [],
   "source": [
    "# Url\n",
    "tmp['text'] = [re.sub(r\"https?:\\/\\/(www\\.)?[-a-zA-Z0-9@:%._\\+~#=]{1,256}\\.[a-zA-Z0-9()]{1,6}\\b([-a-zA-Z0-9()@:%_\\+.~#?&//=]*)\", ' url ', elem) for elem in tmp['text']]"
   ]
  },
  {
   "cell_type": "code",
   "execution_count": 17,
   "metadata": {},
   "outputs": [],
   "source": [
    "#Dealing with emoji\n",
    "tmp['text'] = [elem.encode('ascii', 'ignore').decode('ascii') for elem in tmp['text']]"
   ]
  },
  {
   "cell_type": "code",
   "execution_count": 18,
   "metadata": {},
   "outputs": [],
   "source": [
    "#Money\n",
    "tmp['text'] = [re.sub(r\"\\$\\d*\", ' money ', elem) for elem in tmp['text']] #Money"
   ]
  },
  {
   "cell_type": "code",
   "execution_count": 19,
   "metadata": {},
   "outputs": [],
   "source": [
    "# Dealing with time\n",
    "tmp['text'] = [re.sub(r\" min \", ' time ', elem) for elem in tmp['text']] #Minminute(s)?\n",
    "tmp['text'] = [re.sub(r\" minute(s)?\", ' time ', elem) for elem in tmp['text']] #Min\n",
    "tmp['text'] = [re.sub(r\"\\d\\dmin\", ' time ', elem) for elem in tmp['text']] \n",
    "tmp['text'] = [re.sub(r\"(\\d)*(h)*(r)*(\\d)+min(ute)*(s)*\", ' time ', elem) for elem in tmp['text']]\n",
    "\n",
    "tmp['text'] = [re.sub(r\" ?hr(s)? \", ' time ', elem) for elem in tmp['text']] #Hour\\d\\dhrs\n",
    "tmp['text'] = [re.sub(r\"\\d\\dhrs\", ' time ', elem) for elem in tmp['text']]  #04hrs\n",
    "tmp['text'] = [re.sub(r\"(\\d)?\\d/(\\d)?\\d/\\d(\\d)?(\\d)?(\\d)?\", ' time ', elem) for elem in tmp['text']]  #21/01/2014\n",
    "\n",
    "    \n",
    "tmp['text'] = [re.sub(r\"\\d?\\d?:?\\d?\\d( )?am\", ' time ', elem) for elem in tmp['text']]\n",
    "tmp['text'] = [re.sub(r\"\\d?\\d?:?\\d?\\d( )?pm\", ' time ', elem) for elem in tmp['text']]"
   ]
  },
  {
   "cell_type": "code",
   "execution_count": 20,
   "metadata": {},
   "outputs": [],
   "source": [
    "tmp['text'] = [re.sub(r\"thx\", ' thank ', elem) for elem in tmp['text']]\n",
    "tmp['text'] = [re.sub(r\"thru\", ' through ', elem) for elem in tmp['text']]"
   ]
  },
  {
   "cell_type": "code",
   "execution_count": 21,
   "metadata": {},
   "outputs": [],
   "source": [
    "#Dealing with year-old\n",
    "tmp['text'] = [re.sub(r\"yr old\", ' year-old ', elem) for elem in tmp['text']]\n",
    "tmp['text'] = [re.sub(r\"year old\", ' year-old ', elem) for elem in tmp['text']]"
   ]
  },
  {
   "cell_type": "code",
   "execution_count": 22,
   "metadata": {},
   "outputs": [],
   "source": [
    "#Dealing with ur\n",
    "tmp['text'] = [re.sub(r\" ur \", ' your ', elem) for elem in tmp['text']]"
   ]
  },
  {
   "cell_type": "code",
   "execution_count": 23,
   "metadata": {},
   "outputs": [],
   "source": [
    "tmp['text'] = [re.sub(r\"flight [A-Z]{2} ?[0-9]{3,}\", ' flight ', elem) for elem in tmp['text']] #flight numbers\n",
    "tmp['text'] = [re.sub(r\"[A-Z]{3}-[A-Z]{3}|[A-Z]{3} to [A-Z]{3}\", 'flight', elem) for elem in tmp['text']] #trips ex: SFO-PDX [15]\n",
    "tmp['text'] = [re.sub(r\"[A-Z]{3} \", ' airport ', elem) for elem in tmp['text']] #ex: LAX [17]"
   ]
  },
  {
   "cell_type": "code",
   "execution_count": 24,
   "metadata": {},
   "outputs": [
    {
     "data": {
      "text/plain": [
       "\" seriously would pay  money  a flight for seats that didn't have this playing. it's really the only bad thing about flying va\""
      ]
     },
     "execution_count": 24,
     "metadata": {},
     "output_type": "execute_result"
    }
   ],
   "source": [
    "tmp['text'][5]"
   ]
  },
  {
   "cell_type": "markdown",
   "metadata": {},
   "source": [
    "## Checking spelling"
   ]
  },
  {
   "cell_type": "code",
   "execution_count": 25,
   "metadata": {},
   "outputs": [],
   "source": [
    "#tmp['text'] = [TextBlob(elem).correct() for elem in tmp['text']]"
   ]
  },
  {
   "cell_type": "code",
   "execution_count": 26,
   "metadata": {
    "scrolled": true
   },
   "outputs": [
    {
     "data": {
      "text/html": [
       "<div>\n",
       "<style scoped>\n",
       "    .dataframe tbody tr th:only-of-type {\n",
       "        vertical-align: middle;\n",
       "    }\n",
       "\n",
       "    .dataframe tbody tr th {\n",
       "        vertical-align: top;\n",
       "    }\n",
       "\n",
       "    .dataframe thead th {\n",
       "        text-align: right;\n",
       "    }\n",
       "</style>\n",
       "<table border=\"1\" class=\"dataframe\">\n",
       "  <thead>\n",
       "    <tr style=\"text-align: right;\">\n",
       "      <th></th>\n",
       "      <th>negativereason</th>\n",
       "      <th>text</th>\n",
       "    </tr>\n",
       "  </thead>\n",
       "  <tbody>\n",
       "    <tr>\n",
       "      <th>3</th>\n",
       "      <td>Bad Flights</td>\n",
       "      <td>it's really aggressive to blast obnoxious \"en...</td>\n",
       "    </tr>\n",
       "    <tr>\n",
       "      <th>4</th>\n",
       "      <td>Can't Tell</td>\n",
       "      <td>and it's a really big bad thing about it</td>\n",
       "    </tr>\n",
       "    <tr>\n",
       "      <th>5</th>\n",
       "      <td>Can't Tell</td>\n",
       "      <td>seriously would pay  money  a flight for seat...</td>\n",
       "    </tr>\n",
       "    <tr>\n",
       "      <th>15</th>\n",
       "      <td>Flight Cancellation and Delays</td>\n",
       "      <td>sfo-pdx schedule is still mia.</td>\n",
       "    </tr>\n",
       "    <tr>\n",
       "      <th>17</th>\n",
       "      <td>Bad Flights</td>\n",
       "      <td>i flew from nyc to sfo last week and couldn'...</td>\n",
       "    </tr>\n",
       "    <tr>\n",
       "      <th>...</th>\n",
       "      <td>...</td>\n",
       "      <td>...</td>\n",
       "    </tr>\n",
       "    <tr>\n",
       "      <th>14631</th>\n",
       "      <td>Bad Flights</td>\n",
       "      <td>thank  for nothing on getting us out of the ...</td>\n",
       "    </tr>\n",
       "    <tr>\n",
       "      <th>14633</th>\n",
       "      <td>Flight Cancellation and Delays</td>\n",
       "      <td>my flight was cancelled flightled, leaving to...</td>\n",
       "    </tr>\n",
       "    <tr>\n",
       "      <th>14634</th>\n",
       "      <td>Flight Cancellation and Delays</td>\n",
       "      <td>right on cue with the delays</td>\n",
       "    </tr>\n",
       "    <tr>\n",
       "      <th>14636</th>\n",
       "      <td>Customer Service</td>\n",
       "      <td>leaving over 20 time  late flight. no warning...</td>\n",
       "    </tr>\n",
       "    <tr>\n",
       "      <th>14638</th>\n",
       "      <td>Customer Service</td>\n",
       "      <td>you have my money, you change my flight, and ...</td>\n",
       "    </tr>\n",
       "  </tbody>\n",
       "</table>\n",
       "<p>9178 rows × 2 columns</p>\n",
       "</div>"
      ],
      "text/plain": [
       "                       negativereason  \\\n",
       "3                         Bad Flights   \n",
       "4                          Can't Tell   \n",
       "5                          Can't Tell   \n",
       "15     Flight Cancellation and Delays   \n",
       "17                        Bad Flights   \n",
       "...                               ...   \n",
       "14631                     Bad Flights   \n",
       "14633  Flight Cancellation and Delays   \n",
       "14634  Flight Cancellation and Delays   \n",
       "14636                Customer Service   \n",
       "14638                Customer Service   \n",
       "\n",
       "                                                    text  \n",
       "3       it's really aggressive to blast obnoxious \"en...  \n",
       "4               and it's a really big bad thing about it  \n",
       "5       seriously would pay  money  a flight for seat...  \n",
       "15                        sfo-pdx schedule is still mia.  \n",
       "17       i flew from nyc to sfo last week and couldn'...  \n",
       "...                                                  ...  \n",
       "14631    thank  for nothing on getting us out of the ...  \n",
       "14633   my flight was cancelled flightled, leaving to...  \n",
       "14634                       right on cue with the delays  \n",
       "14636   leaving over 20 time  late flight. no warning...  \n",
       "14638   you have my money, you change my flight, and ...  \n",
       "\n",
       "[9178 rows x 2 columns]"
      ]
     },
     "execution_count": 26,
     "metadata": {},
     "output_type": "execute_result"
    }
   ],
   "source": [
    "tmp = tmp.filter(['negativereason', 'text'])\n",
    "tmp"
   ]
  },
  {
   "cell_type": "markdown",
   "metadata": {},
   "source": [
    "## To csv file"
   ]
  },
  {
   "cell_type": "code",
   "execution_count": 27,
   "metadata": {},
   "outputs": [],
   "source": [
    "tmp.to_csv('negative-review.csv', columns = ['negativereason', 'text'], index=False)"
   ]
  },
  {
   "cell_type": "code",
   "execution_count": null,
   "metadata": {},
   "outputs": [],
   "source": []
  },
  {
   "cell_type": "code",
   "execution_count": null,
   "metadata": {},
   "outputs": [],
   "source": []
  }
 ],
 "metadata": {
  "kernelspec": {
   "display_name": "Python 3",
   "language": "python",
   "name": "python3"
  },
  "language_info": {
   "codemirror_mode": {
    "name": "ipython",
    "version": 3
   },
   "file_extension": ".py",
   "mimetype": "text/x-python",
   "name": "python",
   "nbconvert_exporter": "python",
   "pygments_lexer": "ipython3",
   "version": "3.7.4"
  }
 },
 "nbformat": 4,
 "nbformat_minor": 2
}
